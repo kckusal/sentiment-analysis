{
  "cells": [
    {
      "cell_type": "markdown",
      "metadata": {
        "id": "nAYWxujrJOH4"
      },
      "source": [
        "## About\n",
        "\n",
        "This is sentiment analysis NLP project for ISY501 course offered at Torrens University Australia. The dataset used for training is downloaded from: https://www.cs.jhu.edu/~mdredze/datasets/sentiment/index2.html"
      ]
    },
    {
      "cell_type": "markdown",
      "source": [
        "# Installing dependencies & Defining imports\n",
        "\n",
        "Apart from the core Python 3, please ensure the following packages have been installed:\n",
        "\n",
        "\n",
        "*   nltk==3.8.1\n",
        "*   tensorflow==2.14.0"
      ],
      "metadata": {
        "id": "oOGPK6-uC4EW"
      }
    },
    {
      "cell_type": "code",
      "execution_count": 24,
      "metadata": {
        "id": "rk2Z8_sSWPG0",
        "colab": {
          "base_uri": "https://localhost:8080/"
        },
        "outputId": "9377a238-a11a-4294-9425-c0f03442c15d"
      },
      "outputs": [
        {
          "output_type": "stream",
          "name": "stdout",
          "text": [
            "Requirement already satisfied: requests in /usr/local/lib/python3.10/dist-packages (2.31.0)\n",
            "Requirement already satisfied: charset-normalizer<4,>=2 in /usr/local/lib/python3.10/dist-packages (from requests) (3.3.2)\n",
            "Requirement already satisfied: idna<4,>=2.5 in /usr/local/lib/python3.10/dist-packages (from requests) (3.6)\n",
            "Requirement already satisfied: urllib3<3,>=1.21.1 in /usr/local/lib/python3.10/dist-packages (from requests) (2.0.7)\n",
            "Requirement already satisfied: certifi>=2017.4.17 in /usr/local/lib/python3.10/dist-packages (from requests) (2023.11.17)\n"
          ]
        },
        {
          "output_type": "stream",
          "name": "stderr",
          "text": [
            "[nltk_data] Downloading package punkt to /root/nltk_data...\n",
            "[nltk_data]   Package punkt is already up-to-date!\n",
            "[nltk_data] Downloading package stopwords to /root/nltk_data...\n",
            "[nltk_data]   Package stopwords is already up-to-date!\n",
            "[nltk_data] Downloading package wordnet to /root/nltk_data...\n",
            "[nltk_data]   Package wordnet is already up-to-date!\n"
          ]
        },
        {
          "output_type": "execute_result",
          "data": {
            "text/plain": [
              "True"
            ]
          },
          "metadata": {},
          "execution_count": 24
        }
      ],
      "source": [
        "# we use requests to download dataset\n",
        "!pip install requests\n",
        "\n",
        "import os\n",
        "import requests\n",
        "import tarfile\n",
        "import re\n",
        "import io\n",
        "import pickle\n",
        "\n",
        "import numpy as np\n",
        "import matplotlib.pyplot as plt\n",
        "from sklearn.utils import shuffle\n",
        "import nltk\n",
        "from nltk.corpus import stopwords\n",
        "from nltk.tokenize import word_tokenize\n",
        "from nltk.stem import WordNetLemmatizer\n",
        "from tensorflow.keras.preprocessing.text import Tokenizer\n",
        "from tensorflow.keras.preprocessing.sequence import pad_sequences\n",
        "from tensorflow.keras import layers, models\n",
        "from tensorflow.keras.models import load_model\n",
        "from keras.optimizers import Adam\n",
        "from keras.callbacks import ModelCheckpoint\n",
        "\n",
        "nltk.download('punkt')\n",
        "nltk.download('stopwords')\n",
        "nltk.download('wordnet')"
      ]
    },
    {
      "cell_type": "markdown",
      "source": [
        "# Defining constants"
      ],
      "metadata": {
        "id": "Uzwf3CuODjRt"
      }
    },
    {
      "cell_type": "code",
      "execution_count": 18,
      "metadata": {
        "id": "xvqX6jYHdJ4T"
      },
      "outputs": [],
      "source": [
        "DATASET_URL = 'https://www.cs.jhu.edu/~mdredze/datasets/sentiment/domain_sentiment_data.tar.gz'\n",
        "DATASET_EXTRACTED_PATH = '/content/dataset_extracted'\n",
        "\n",
        "# Create local dir to put extracted dataset\n",
        "!mkdir -p {DATASET_EXTRACTED_PATH}\n",
        "\n",
        "REVIEW_DOMAINS = [\"books\", \"dvd\", \"electronics\", \"kitchen_&_housewares\"]\n",
        "REVIEW_DOMAINS_PATH = '{}/sorted_data_acl'.format(DATASET_EXTRACTED_PATH)\n",
        "\n",
        "MODEL_CHECKPOINT_PATH=\"./checkpoint\"\n",
        "MODEL_SAVE_FILE_PATH=\"sentiment_analyzer.h5\"\n",
        "MODEL_PREPROCESSING_INFO_FILE_PATH=\"preprocessing_info.pkl\""
      ]
    },
    {
      "cell_type": "markdown",
      "source": [
        "# Getting dataset Locally"
      ],
      "metadata": {
        "id": "yI74_vgLEpAV"
      }
    },
    {
      "cell_type": "code",
      "source": [
        "# Download and extract the dataset\n",
        "print(\"Downloading dataset...\")\n",
        "response = requests.get(DATASET_URL)\n",
        "print(\"Download completed!\")\n",
        "\n",
        "with tarfile.open(fileobj=io.BytesIO(response.content), mode='r:gz') as tar:\n",
        "    tar.extractall(path=DATASET_EXTRACTED_PATH)\n",
        "    print(\"Dataset has been extracted successfully and saved locally in path: {}\".format(DATASET_EXTRACTED_PATH))"
      ],
      "metadata": {
        "colab": {
          "base_uri": "https://localhost:8080/"
        },
        "id": "siOM_dPREu5j",
        "outputId": "7fd261e1-7243-4e35-955e-c644eb7990e2"
      },
      "execution_count": 7,
      "outputs": [
        {
          "output_type": "stream",
          "name": "stdout",
          "text": [
            "Downloading dataset...\n",
            "Download completed!\n",
            "Dataset has been extracted successfully and saved locally in path: /content/dataset_extracted\n"
          ]
        }
      ]
    },
    {
      "cell_type": "markdown",
      "source": [
        "# Load training data"
      ],
      "metadata": {
        "id": "7Cx69LS3E6Qy"
      }
    },
    {
      "cell_type": "code",
      "source": [
        "# Review text cleaning function\n",
        "def clean_review_text(text: str) -> list:\n",
        "    # Remove <review_text> at start and </review_text> at end\n",
        "    sentence = re.sub(r'<review_text>', '', text)\n",
        "    sentence = re.sub(r'</review_text>', '', sentence)\n",
        "\n",
        "    # Remove punctuations\n",
        "    sentence = re.sub(r'[^\\w\\s]', '', sentence)\n",
        "\n",
        "    # Convert to lowercase and tokenize\n",
        "    tokens = word_tokenize(sentence.lower())\n",
        "\n",
        "    # Remove stopwords\n",
        "    stop_words = set(stopwords.words('english'))\n",
        "    filtered_tokens = [word for word in tokens if word not in stop_words]\n",
        "\n",
        "    # Lemmatization\n",
        "    lemmatizer = WordNetLemmatizer()\n",
        "    lemmatized_tokens = [lemmatizer.lemmatize(word) for word in filtered_tokens]\n",
        "\n",
        "    return lemmatized_tokens\n",
        "\n",
        "\n",
        "# load dataset function\n",
        "def load_dataset():\n",
        "    regex_review = re.compile(r'<review_text>(.*?)<\\/review_text>', flags=re.DOTALL)\n",
        "    reviews = []\n",
        "    labels = []\n",
        "\n",
        "    print(\"Reading train data...\")\n",
        "    for domain in REVIEW_DOMAINS:\n",
        "        domain_path = os.path.join(REVIEW_DOMAINS_PATH, domain)\n",
        "\n",
        "        positive_reviews_file = os.path.join(domain_path, \"positive.review\")\n",
        "        negative_reviews_file = os.path.join(domain_path, \"negative.review\")\n",
        "\n",
        "        print(\"Reading positive reviews for {}...\".format(domain))\n",
        "        with open(positive_reviews_file, 'r', encoding=\"utf-8\") as file:\n",
        "            file_content = file.read()\n",
        "            positive_reviews = re.findall(regex_review, file_content)\n",
        "\n",
        "            print(\"Found {} reviews\\n\".format(len(positive_reviews)))\n",
        "            for review in positive_reviews:\n",
        "                reviews.append(clean_review_text(review))\n",
        "                labels.append(1)\n",
        "\n",
        "        print(\"Reading negative reviews for {}...\".format(domain))\n",
        "        with open(negative_reviews_file, 'r', encoding=\"utf-8\") as file:\n",
        "            file_content = file.read()\n",
        "            negative_reviews = re.findall(regex_review, file_content)\n",
        "\n",
        "            print(\"Found {} reviews\\n\".format(len(negative_reviews)))\n",
        "            for review in negative_reviews:\n",
        "                reviews.append(clean_review_text(review))\n",
        "                labels.append(0)\n",
        "\n",
        "    return reviews, labels\n",
        "\n"
      ],
      "metadata": {
        "id": "zlU0Yhx3E5jR"
      },
      "execution_count": 8,
      "outputs": []
    },
    {
      "cell_type": "code",
      "source": [
        "# LOAD dataset (Note we tokenize review texts and use binary encoding for labels: 1 for positive, 0 for negative)\n",
        "reviews, labels = load_dataset()\n",
        "\n",
        "print(\"Here's an example pre-processed data:\")\n",
        "print(\"Review[0]: {}\".format(reviews[0]))\n",
        "print(\"Label[0]: {}\".format(labels[0]))\n",
        "\n",
        "\n",
        "# Shuffle data\n",
        "reviews, labels = shuffle(reviews, labels, random_state=42)\n",
        "\n",
        "# Visualize sentiment distribution\n",
        "positive_count = sum(labels)\n",
        "negative_count = len(labels) - positive_count\n",
        "plt.bar(['Positive', 'Negative'], [positive_count, negative_count])\n",
        "plt.title('Sentiment Distribution in Training Data')\n",
        "plt.xlabel('Sentiment')\n",
        "plt.ylabel('Count')\n",
        "plt.show()"
      ],
      "metadata": {
        "colab": {
          "base_uri": "https://localhost:8080/",
          "height": 978
        },
        "id": "UrlotpCPFEpo",
        "outputId": "febf74c4-d0ca-459d-fa32-0e2836b84442"
      },
      "execution_count": 14,
      "outputs": [
        {
          "output_type": "stream",
          "name": "stdout",
          "text": [
            "Reading train data...\n",
            "Reading positive reviews for books...\n",
            "Found 1000 reviews\n",
            "\n",
            "Reading negative reviews for books...\n",
            "Found 1000 reviews\n",
            "\n",
            "Reading positive reviews for dvd...\n",
            "Found 1000 reviews\n",
            "\n",
            "Reading negative reviews for dvd...\n",
            "Found 1000 reviews\n",
            "\n",
            "Reading positive reviews for electronics...\n",
            "Found 1000 reviews\n",
            "\n",
            "Reading negative reviews for electronics...\n",
            "Found 1000 reviews\n",
            "\n",
            "Reading positive reviews for kitchen_&_housewares...\n",
            "Found 1000 reviews\n",
            "\n",
            "Reading negative reviews for kitchen_&_housewares...\n",
            "Found 1000 reviews\n",
            "\n",
            "Here's an example pre-processed data:\n",
            "Review[0]: ['sphere', 'michael', 'crichton', 'excellant', 'novel', 'certainly', 'hardest', 'put', 'crichton', 'novel', 'read', 'story', 'revolves', 'around', 'man', 'named', 'norman', 'johnson', 'johnson', 'phycologist', 'travel', '4', 'civilans', 'remote', 'location', 'pacific', 'ocean', 'help', 'navy', 'top', 'secret', 'misssion', 'quickly', 'learn', 'ocean', 'half', 'mile', 'long', 'spaceship', 'civilans', 'travel', 'center', '1000', 'foot', 'ocean', 'live', 'researching', 'spacecraft', 'joined', '5', 'navy', 'personel', 'help', 'run', 'operation', 'however', 'surface', 'typhoon', 'come', 'support', 'ship', 'surface', 'must', 'leave', 'team', 'ten', 'stuck', '1000', 'foot', 'surface', 'ocean', 'day', 'sea', 'find', 'spacecraft', 'actually', 'american', 'ship', 'explored', 'black', 'hole', 'brought', 'back', 'strange', 'thing', 'back', 'earth', 'novel', 'research', 'crichton', 'novel', 'still', 'lot', 'information', 'random', 'thing', 'lawes', 'partial', 'pressure', 'behavior', 'analysis', 'would', 'strongly', 'recommend', 'book']\n",
            "Label[0]: 1\n"
          ]
        },
        {
          "output_type": "display_data",
          "data": {
            "text/plain": [
              "<Figure size 640x480 with 1 Axes>"
            ],
            "image/png": "[encoded data removed]"
          },
          "metadata": {}
        }
      ]
    },
    {
      "cell_type": "markdown",
      "source": [
        "# Getting data ready for training"
      ],
      "metadata": {
        "id": "6Gf-e-tRHYa9"
      }
    },
    {
      "cell_type": "code",
      "source": [
        "# Tokenize and pad sequences\n",
        "tokenizer = Tokenizer()\n",
        "tokenizer.fit_on_texts(reviews)\n",
        "vocab_size = len(tokenizer.word_index)\n",
        "sequences = tokenizer.texts_to_sequences(reviews)\n",
        "max_len = max(len(seq) for seq in sequences)\n",
        "padded_sequences = pad_sequences(sequences, maxlen=max_len, padding='post')\n",
        "\n",
        "# Split data into training and testing sets\n",
        "split_ratio = 0.8\n",
        "split_index = int(len(padded_sequences) * split_ratio)\n",
        "x_train, y_train = padded_sequences[:split_index], np.array(labels)[:split_index]\n",
        "x_test, y_test = padded_sequences[split_index:], np.array(labels)[split_index:]"
      ],
      "metadata": {
        "id": "Ds2BBs--HX-D"
      },
      "execution_count": 16,
      "outputs": []
    },
    {
      "cell_type": "markdown",
      "source": [
        "# Defining the training model"
      ],
      "metadata": {
        "id": "lhuO1m5BHlz5"
      }
    },
    {
      "cell_type": "code",
      "source": [
        "# Model configuration\n",
        "embedding_dim = 100\n",
        "\n",
        "model = models.Sequential([\n",
        "    layers.Embedding(input_dim=vocab_size, output_dim=embedding_dim, input_length=max_len),\n",
        "    layers.Bidirectional(layers.LSTM(64, return_sequences=True)),\n",
        "    layers.Bidirectional(layers.LSTM(32)),\n",
        "    layers.Dense(1, activation='sigmoid')\n",
        "])\n",
        "optimizer = Adam(learning_rate=0.001)\n",
        "model.compile(optimizer=optimizer, loss='binary_crossentropy', metrics=['accuracy'])\n",
        "model.summary()"
      ],
      "metadata": {
        "colab": {
          "base_uri": "https://localhost:8080/"
        },
        "id": "4b7N0G5IHj78",
        "outputId": "c9eccd6d-0400-4c9a-8306-db1bc99046a8"
      },
      "execution_count": 17,
      "outputs": [
        {
          "output_type": "stream",
          "name": "stdout",
          "text": [
            "Model: \"sequential\"\n",
            "_________________________________________________________________\n",
            " Layer (type)                Output Shape              Param #   \n",
            "=================================================================\n",
            " embedding (Embedding)       (None, 1854, 100)         4193900   \n",
            "                                                                 \n",
            " bidirectional (Bidirection  (None, 1854, 128)         84480     \n",
            " al)                                                             \n",
            "                                                                 \n",
            " bidirectional_1 (Bidirecti  (None, 64)                41216     \n",
            " onal)                                                           \n",
            "                                                                 \n",
            " dense (Dense)               (None, 1)                 65        \n",
            "                                                                 \n",
            "=================================================================\n",
            "Total params: 4319661 (16.48 MB)\n",
            "Trainable params: 4319661 (16.48 MB)\n",
            "Non-trainable params: 0 (0.00 Byte)\n",
            "_________________________________________________________________\n"
          ]
        }
      ]
    },
    {
      "cell_type": "markdown",
      "source": [
        "# Training the model & saving it"
      ],
      "metadata": {
        "id": "CDT5GnFlH4-g"
      }
    },
    {
      "cell_type": "code",
      "source": [
        "# Save weights directory\n",
        "!mkdir -p {MODEL_CHECKPOINT_PATH}\n",
        "checkpoint = ModelCheckpoint(MODEL_CHECKPOINT_PATH)\n",
        "\n",
        "# Train the model\n",
        "batch_size = 16\n",
        "history = model.fit(x=x_train, y=y_train, batch_size=batch_size, epochs=5, validation_split=0.2, callbacks=[checkpoint], verbose=1)\n",
        "\n",
        "# Evaluate the model on the test set\n",
        "loss, accuracy = model.evaluate(x_test, y_test)\n",
        "print(f'Test Accuracy: {accuracy * 100:.2f}%')\n",
        "\n",
        "model.save(MODEL_SAVE_FILE_PATH)\n",
        "\n",
        "# Save preprocessing parameters\n",
        "preprocessing_info = {\n",
        "    \"max_len\": max_len,\n",
        "    \"word_index\": tokenizer.word_index,\n",
        "    \"num_words\": tokenizer.num_words\n",
        "}\n",
        "\n",
        "with open(MODEL_PREPROCESSING_INFO_FILE_PATH, \"wb\") as pkl_file:\n",
        "    pickle.dump(preprocessing_info, pkl_file)"
      ],
      "metadata": {
        "colab": {
          "base_uri": "https://localhost:8080/"
        },
        "id": "JfFBzBvwHisN",
        "outputId": "c70a92f3-50da-4e03-cd76-20c60ed9244f"
      },
      "execution_count": 20,
      "outputs": [
        {
          "output_type": "stream",
          "name": "stdout",
          "text": [
            "Epoch 1/5\n",
            "320/320 [==============================] - 154s 455ms/step - loss: 0.5796 - accuracy: 0.6740 - val_loss: 0.4918 - val_accuracy: 0.7734\n",
            "Epoch 2/5\n",
            "320/320 [==============================] - 131s 410ms/step - loss: 0.2317 - accuracy: 0.9102 - val_loss: 0.5625 - val_accuracy: 0.7750\n",
            "Epoch 3/5\n",
            "320/320 [==============================] - 116s 361ms/step - loss: 0.0682 - accuracy: 0.9799 - val_loss: 0.7595 - val_accuracy: 0.7648\n",
            "Epoch 4/5\n",
            "320/320 [==============================] - 93s 290ms/step - loss: 0.0323 - accuracy: 0.9926 - val_loss: 0.7550 - val_accuracy: 0.7602\n",
            "Epoch 5/5\n",
            "320/320 [==============================] - 93s 292ms/step - loss: 0.0204 - accuracy: 0.9945 - val_loss: 1.0918 - val_accuracy: 0.7539\n",
            "50/50 [==============================] - 7s 106ms/step - loss: 1.1405 - accuracy: 0.7325\n",
            "Test Accuracy: 73.25%\n"
          ]
        },
        {
          "output_type": "stream",
          "name": "stderr",
          "text": [
            "/usr/local/lib/python3.10/dist-packages/keras/src/engine/training.py:3079: UserWarning: You are saving your model as an HDF5 file via `model.save()`. This file format is considered legacy. We recommend using instead the native Keras format, e.g. `model.save('my_model.keras')`.\n",
            "  saving_api.save_model(\n"
          ]
        }
      ]
    },
    {
      "cell_type": "markdown",
      "source": [
        "# Loading saved model"
      ],
      "metadata": {
        "id": "6wLKLHZZI6Vi"
      }
    },
    {
      "cell_type": "code",
      "source": [
        "def load_saved_model(model_file_path, preprocessing_info_file_path):\n",
        "    # Load preprocessing parameters\n",
        "    with open(preprocessing_info_file_path, \"rb\") as pkl_file:\n",
        "        preprocessing_info = pickle.load(pkl_file)\n",
        "\n",
        "    tokenizer = Tokenizer()\n",
        "    tokenizer.word_index = preprocessing_info['word_index']\n",
        "    tokenizer.num_words = preprocessing_info['num_words']\n",
        "    max_len = preprocessing_info[\"max_len\"]\n",
        "\n",
        "    # Load & return model\n",
        "    return load_model(model_file_path), preprocessing_info, tokenizer\n"
      ],
      "metadata": {
        "id": "BqLpc0O_I5y0"
      },
      "execution_count": 25,
      "outputs": []
    },
    {
      "cell_type": "code",
      "source": [
        "model, preprocessing_info, tokenizer = load_saved_model(MODEL_SAVE_FILE_PATH, MODEL_PREPROCESSING_INFO_FILE_PATH)\n",
        "model.summary()"
      ],
      "metadata": {
        "colab": {
          "base_uri": "https://localhost:8080/"
        },
        "id": "tBeuHPGeXCTD",
        "outputId": "65cebf17-fbe2-4893-f1d3-6be24fadf4d6"
      },
      "execution_count": 28,
      "outputs": [
        {
          "output_type": "stream",
          "name": "stdout",
          "text": [
            "Model: \"sequential\"\n",
            "_________________________________________________________________\n",
            " Layer (type)                Output Shape              Param #   \n",
            "=================================================================\n",
            " embedding (Embedding)       (None, 1854, 100)         4193900   \n",
            "                                                                 \n",
            " bidirectional (Bidirection  (None, 1854, 128)         84480     \n",
            " al)                                                             \n",
            "                                                                 \n",
            " bidirectional_1 (Bidirecti  (None, 64)                41216     \n",
            " onal)                                                           \n",
            "                                                                 \n",
            " dense (Dense)               (None, 1)                 65        \n",
            "                                                                 \n",
            "=================================================================\n",
            "Total params: 4319661 (16.48 MB)\n",
            "Trainable params: 4319661 (16.48 MB)\n",
            "Non-trainable params: 0 (0.00 Byte)\n",
            "_________________________________________________________________\n"
          ]
        }
      ]
    },
    {
      "cell_type": "markdown",
      "source": [
        "# Using saved model to make predictions"
      ],
      "metadata": {
        "id": "WqnAPumDKAN7"
      }
    },
    {
      "cell_type": "code",
      "source": [
        "def predict(review_texts: list) -> list:\n",
        "    # Clean and preprocess each review text\n",
        "    preprocessed_reviews = [clean_review_text(text) for text in review_texts]\n",
        "\n",
        "    # Convert preprocessed text to sequences using the tokenizer used during training\n",
        "    sequences = tokenizer.texts_to_sequences(preprocessed_reviews)\n",
        "\n",
        "    # Pad sequences to have consistent length\n",
        "    padded_sequences = pad_sequences(sequences, maxlen=max_len, padding='post')\n",
        "\n",
        "    # Make predictions using the loaded model\n",
        "    predictions = model.predict(padded_sequences)\n",
        "\n",
        "    # Convert predictions to a list and get only first value from result item\n",
        "    prediction_values = [item[0] for item in predictions.tolist()]\n",
        "\n",
        "    results = []\n",
        "    for i, prediction in enumerate(prediction_values):\n",
        "      label = 'Positive' if prediction > 0.5 else 'Negative'\n",
        "      input_text = review_texts[i]\n",
        "      accuracy = round(float(prediction), 8)\n",
        "\n",
        "      result_dict = { 'label': label, 'accuracy': accuracy, 'input_text': input_text }\n",
        "      results.append(result_dict)\n",
        "\n",
        "\n",
        "    return results"
      ],
      "metadata": {
        "id": "fcHbBf6vKDlk"
      },
      "execution_count": 29,
      "outputs": []
    },
    {
      "cell_type": "code",
      "source": [
        "# Testing on sample data\n",
        "reviews = [\n",
        "    \"This was a good product. The person it was bought for loved it. Got lots of use out of it.\",\n",
        "    \"I returned above item because it doesn't work with me MacBook Pro. I have not received my refund yet. Please double check why my refund takes so long. Thank you.\"\n",
        "]\n",
        "\n",
        "predict(reviews)"
      ],
      "metadata": {
        "colab": {
          "base_uri": "https://localhost:8080/"
        },
        "id": "jkmDc0qcXzyp",
        "outputId": "5f3de98c-a5a4-4bec-ed2a-b02ee86c3618"
      },
      "execution_count": 30,
      "outputs": [
        {
          "output_type": "stream",
          "name": "stdout",
          "text": [
            "1/1 [==============================] - 2s 2s/step\n"
          ]
        },
        {
          "output_type": "execute_result",
          "data": {
            "text/plain": [
              "[{'label': 'Positive',\n",
              "  'accuracy': 0.99811649,\n",
              "  'input_text': 'This was a good product. The person it was bought for loved it. Got lots of use out of it.'},\n",
              " {'label': 'Negative',\n",
              "  'accuracy': 0.00168357,\n",
              "  'input_text': \"I returned above item because it doesn't work with me MacBook Pro. I have not received my refund yet. Please double check why my refund takes so long. Thank you.\"}]"
            ]
          },
          "metadata": {},
          "execution_count": 30
        }
      ]
    }
  ],
  "metadata": {
    "accelerator": "GPU",
    "colab": {
      "provenance": []
    },
    "kernelspec": {
      "display_name": "Python 3",
      "name": "python3"
    },
    "language_info": {
      "name": "python"
    }
  },
  "nbformat": 4,
  "nbformat_minor": 0
}