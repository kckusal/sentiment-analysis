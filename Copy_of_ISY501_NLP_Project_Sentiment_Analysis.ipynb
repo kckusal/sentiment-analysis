{
  "nbformat": 4,
  "nbformat_minor": 0,
  "metadata": {
    "colab": {
      "provenance": []
    },
    "kernelspec": {
      "name": "python3",
      "display_name": "Python 3"
    },
    "language_info": {
      "name": "python"
    }
  },
  "cells": [
    {
      "cell_type": "markdown",
      "source": [
        "## About\n",
        "\n",
        "This is NLP project for ISY course."
      ],
      "metadata": {
        "id": "nAYWxujrJOH4"
      }
    },
    {
      "cell_type": "markdown",
      "source": [
        "## Dataset"
      ],
      "metadata": {
        "id": "FVX6rtH5JW_g"
      }
    },
    {
      "cell_type": "code",
      "execution_count": 6,
      "metadata": {
        "id": "vKGFtQ_HJIJI",
        "colab": {
          "base_uri": "https://localhost:8080/"
        },
        "outputId": "7895306d-e157-440e-b6e4-c56c09742203"
      },
      "outputs": [
        {
          "output_type": "stream",
          "name": "stderr",
          "text": [
            "[nltk_data] Downloading package stopwords to /root/nltk_data...\n",
            "[nltk_data]   Package stopwords is already up-to-date!\n",
            "[nltk_data] Downloading package punkt to /root/nltk_data...\n",
            "[nltk_data]   Package punkt is already up-to-date!\n"
          ]
        },
        {
          "output_type": "stream",
          "name": "stdout",
          "text": [
            "Epoch 1/10\n",
            "500/500 [==============================] - 90s 168ms/step - loss: 0.8368 - accuracy: 0.6326 - val_loss: 0.7300 - val_accuracy: 0.6858\n",
            "Epoch 2/10\n",
            "500/500 [==============================] - 82s 165ms/step - loss: 0.6383 - accuracy: 0.7352 - val_loss: 0.7217 - val_accuracy: 0.6840\n",
            "Epoch 3/10\n",
            "500/500 [==============================] - 82s 163ms/step - loss: 0.5076 - accuracy: 0.7994 - val_loss: 0.8312 - val_accuracy: 0.6747\n",
            "Epoch 4/10\n",
            "500/500 [==============================] - 82s 164ms/step - loss: 0.4130 - accuracy: 0.8457 - val_loss: 0.8787 - val_accuracy: 0.6628\n",
            "Epoch 5/10\n",
            "500/500 [==============================] - 82s 163ms/step - loss: 0.3328 - accuracy: 0.8824 - val_loss: 0.9728 - val_accuracy: 0.6630\n",
            "Epoch 6/10\n",
            "500/500 [==============================] - 81s 163ms/step - loss: 0.2784 - accuracy: 0.9044 - val_loss: 1.0511 - val_accuracy: 0.6582\n",
            "Epoch 7/10\n",
            "500/500 [==============================] - 82s 165ms/step - loss: 0.2233 - accuracy: 0.9256 - val_loss: 1.2856 - val_accuracy: 0.6513\n",
            "Epoch 8/10\n",
            "500/500 [==============================] - 81s 162ms/step - loss: 0.1866 - accuracy: 0.9378 - val_loss: 1.3263 - val_accuracy: 0.6335\n",
            "Epoch 9/10\n",
            "500/500 [==============================] - 83s 166ms/step - loss: 0.1671 - accuracy: 0.9441 - val_loss: 1.4170 - val_accuracy: 0.6335\n",
            "Epoch 10/10\n",
            "500/500 [==============================] - 81s 162ms/step - loss: 0.1384 - accuracy: 0.9536 - val_loss: 1.7190 - val_accuracy: 0.6298\n",
            "157/157 [==============================] - 7s 40ms/step - loss: 1.6325 - accuracy: 0.6408\n",
            "\n",
            "Test Accuracy: 64.08%\n",
            "1/1 [==============================] - 1s 1s/step\n",
            "Review: product amazing | Predicted Sentiment: positive\n",
            "Review: dont like | Predicted Sentiment: negative\n",
            "Review: neither great terrible | Predicted Sentiment: negative\n"
          ]
        }
      ],
      "source": [
        "import numpy as np\n",
        "import pandas as pd\n",
        "from sklearn.model_selection import train_test_split\n",
        "from sklearn.preprocessing import LabelEncoder\n",
        "from tensorflow import keras\n",
        "from tensorflow.keras import layers\n",
        "from tensorflow.keras.preprocessing.text import Tokenizer\n",
        "from tensorflow.keras.preprocessing.sequence import pad_sequences\n",
        "import nltk\n",
        "from nltk.corpus import stopwords\n",
        "from nltk.tokenize import word_tokenize\n",
        "import re\n",
        "\n",
        "nltk.download('stopwords')\n",
        "nltk.download('punkt')\n",
        "\n",
        "df = pd.read_csv('/content/AmazonReview.csv')\n",
        "\n",
        "# Remove missing values\n",
        "df = df.dropna()\n",
        "\n",
        "# Map sentiment scores to 'positive', 'neutral', 'negative'\n",
        "df['Sentiment'] = np.where(df['Sentiment'] >= 4, 'positive', np.where(df['Sentiment'] == 3, 'neutral', 'negative'))\n",
        "\n",
        "# Convert sentiment to categorical labels\n",
        "label_encoder = LabelEncoder()\n",
        "df['Sentiment'] = label_encoder.fit_transform(df['Sentiment'])\n",
        "\n",
        "# Remove stopwords and perform preprocessing\n",
        "stop_words = set(stopwords.words('english'))\n",
        "\n",
        "def preprocess_text(text):\n",
        "    # Convert to lowercase\n",
        "    text = text.lower()\n",
        "    # Remove special characters, numbers, and punctuation\n",
        "    text = re.sub(r'[^a-zA-Z\\s]', '', text)\n",
        "    # Tokenize\n",
        "    words = word_tokenize(text)\n",
        "    # Remove stopwords\n",
        "    words = [word for word in words if word not in stop_words]\n",
        "    return ' '.join(words)\n",
        "\n",
        "# Apply preprocessing to the Review column\n",
        "df['Review'] = df['Review'].apply(preprocess_text)\n",
        "\n",
        "# Split the dataset into training and testing sets\n",
        "train_data, test_data, train_labels, test_labels = train_test_split(\n",
        "    df['Review'], df['Sentiment'], test_size=0.2, random_state=42\n",
        ")\n",
        "\n",
        "# Tokenize and pad sequences\n",
        "max_words = 10000\n",
        "max_len = 100\n",
        "tokenizer = Tokenizer(num_words=max_words, oov_token=\"<OOV>\")\n",
        "tokenizer.fit_on_texts(train_data)\n",
        "\n",
        "train_sequences = tokenizer.texts_to_sequences(train_data)\n",
        "test_sequences = tokenizer.texts_to_sequences(test_data)\n",
        "\n",
        "train_padded = pad_sequences(train_sequences, maxlen=max_len, padding='post', truncating='post')\n",
        "test_padded = pad_sequences(test_sequences, maxlen=max_len, padding='post', truncating='post')\n",
        "\n",
        "# Build a neural network model\n",
        "model = keras.Sequential([\n",
        "    layers.Embedding(max_words, 100, input_length=max_len),\n",
        "    layers.Bidirectional(layers.LSTM(64, return_sequences=True)),\n",
        "    layers.Bidirectional(layers.LSTM(64)),\n",
        "    layers.Dense(64, activation='relu'),\n",
        "    layers.Dense(3, activation='softmax')\n",
        "])\n",
        "\n",
        "model.compile(optimizer='adam', loss='sparse_categorical_crossentropy', metrics=['accuracy'])\n",
        "\n",
        "# Train the model\n",
        "model.fit(train_padded, train_labels, epochs=10, validation_split=0.2)\n",
        "\n",
        "# Evaluate the model\n",
        "test_loss, test_acc = model.evaluate(test_padded, test_labels)\n",
        "print(f\"\\nTest Accuracy: {test_acc * 100:.2f}%\")\n",
        "\n",
        "# Make predictions on sample sentences\n",
        "sample_sentences = [\"This product is amazing!\", \"I don't like it at all.\", \"It's neither great nor terrible.\"]\n",
        "sample_sentences = [preprocess_text(sentence) for sentence in sample_sentences]\n",
        "sample_sequences = tokenizer.texts_to_sequences(sample_sentences)\n",
        "sample_padded = pad_sequences(sample_sequences, maxlen=max_len, padding='post', truncating='post')\n",
        "\n",
        "predictions = model.predict(sample_padded)\n",
        "predicted_labels = np.argmax(predictions, axis=1)\n",
        "\n",
        "# Decode predicted labels back to sentiment classes\n",
        "predicted_sentiments = label_encoder.inverse_transform(predicted_labels)\n",
        "\n",
        "# Display the results\n",
        "for sentence, sentiment in zip(sample_sentences, predicted_sentiments):\n",
        "    print(f\"Review: {sentence} | Predicted Sentiment: {sentiment}\")\n"
      ]
    },
    {
      "cell_type": "code",
      "source": [
        "# all data preprocessing should be done"
      ],
      "metadata": {
        "id": "vj0XMnNyJXe1"
      },
      "execution_count": null,
      "outputs": []
    },
    {
      "cell_type": "markdown",
      "source": [
        "## Model"
      ],
      "metadata": {
        "id": "DqMxIbo0JW0u"
      }
    },
    {
      "cell_type": "code",
      "source": [
        "# Create a Neural Network"
      ],
      "metadata": {
        "id": "m0WGrB42JjnX"
      },
      "execution_count": null,
      "outputs": []
    },
    {
      "cell_type": "markdown",
      "source": [
        "## Train Model"
      ],
      "metadata": {
        "id": "dzfjzz11JWhf"
      }
    },
    {
      "cell_type": "code",
      "source": [
        "# Train your model here"
      ],
      "metadata": {
        "id": "tt5wJnlqJrli"
      },
      "execution_count": null,
      "outputs": []
    },
    {
      "cell_type": "markdown",
      "source": [
        "## Results and Analysis"
      ],
      "metadata": {
        "id": "1h3n1h0IJq9y"
      }
    },
    {
      "cell_type": "code",
      "source": [
        "# Use diagrams and reasonings for analysis"
      ],
      "metadata": {
        "id": "Y-VJ6auiJVmu"
      },
      "execution_count": null,
      "outputs": []
    },
    {
      "cell_type": "markdown",
      "source": [],
      "metadata": {
        "id": "B9gus-L8JWCf"
      }
    }
  ]
}